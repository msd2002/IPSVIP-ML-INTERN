{
 "cells": [
  {
   "cell_type": "markdown",
   "id": "2c030751",
   "metadata": {},
   "source": [
    "# Infopillar Solutions Pvt.Ltd-VIP"
   ]
  },
  {
   "cell_type": "markdown",
   "id": "cb12b340",
   "metadata": {},
   "source": [
    "Task 1- Fake News Detection Project \n",
    "        "
   ]
  },
  {
   "cell_type": "markdown",
   "id": "b46c5d4f",
   "metadata": {},
   "source": [
    "Fake news spreads like a wildfire and this is a big issue in this era."
   ]
  },
  {
   "cell_type": "markdown",
   "id": "0da39f29",
   "metadata": {},
   "source": [
    "Author : Mahesh Santosh Darvankar"
   ]
  },
  {
   "cell_type": "markdown",
   "id": "5e61aeda",
   "metadata": {},
   "source": [
    "# Import Libraries"
   ]
  },
  {
   "cell_type": "code",
   "execution_count": null,
   "id": "ebc46e30",
   "metadata": {
    "scrolled": true
   },
   "outputs": [],
   "source": [
    "import pandas as pd\n",
    "import string \n",
    "from sklearn.model_selection import train_test_split\n",
    "from sklearn.feature_extraction.text import TfidfVectorizer\n",
    "from sklearn.linear_model import PassiveAggressiveClassifier\n",
    "from sklearn.metrics import accuracy_score, confusion_matrix\n",
    "print('Dependencies Loaded Successfully')\n"
   ]
  },
  {
   "cell_type": "markdown",
   "id": "f9337d4c",
   "metadata": {},
   "source": [
    "# Loading of Data"
   ]
  },
  {
   "cell_type": "code",
   "execution_count": null,
   "id": "550847cf",
   "metadata": {},
   "outputs": [],
   "source": [
    "data = pd.read_csv('news.csv')"
   ]
  },
  {
   "cell_type": "code",
   "execution_count": null,
   "id": "4ff9a6e9",
   "metadata": {},
   "outputs": [],
   "source": [
    "data.shape\n",
    "data.head()"
   ]
  },
  {
   "cell_type": "markdown",
   "id": "23b3a8dd",
   "metadata": {},
   "source": [
    "# Get the labels from the DataFrame"
   ]
  },
  {
   "cell_type": "code",
   "execution_count": null,
   "id": "b716b89c",
   "metadata": {},
   "outputs": [],
   "source": [
    "labels=data.label\n",
    "labels.head()\n"
   ]
  },
  {
   "cell_type": "markdown",
   "id": "be90aafb",
   "metadata": {},
   "source": [
    "# Split the dataset into training and testing sets."
   ]
  },
  {
   "cell_type": "code",
   "execution_count": null,
   "id": "79a74da3",
   "metadata": {},
   "outputs": [],
   "source": [
    "x_train,x_test,y_train,y_test=train_test_split(data['text'], labels, test_size=0.2, random_state=7)"
   ]
  },
  {
   "cell_type": "markdown",
   "id": "41c6b569",
   "metadata": {},
   "source": [
    "\n",
    "Initialize a TfidfVectorizer with stop words from the English language. Stop words are the most common words in a language that are to be filtered out before processing the natural language data. And a TfidfVectorizer turns a collection of raw documents into a matrix of TF-IDF features. now fitting and transforming."
   ]
  },
  {
   "cell_type": "code",
   "execution_count": null,
   "id": "072ca896",
   "metadata": {},
   "outputs": [],
   "source": [
    "tfidf_vectorizer=TfidfVectorizer(stop_words='english')\n",
    "tfidf_train=tfidf_vectorizer.fit_transform(x_train) \n",
    "tfidf_test=tfidf_vectorizer.transform(x_test)"
   ]
  },
  {
   "cell_type": "markdown",
   "id": "4a69a158",
   "metadata": {},
   "source": [
    "# Initialize a PassiveAggressiveClassifie"
   ]
  },
  {
   "cell_type": "code",
   "execution_count": null,
   "id": "a8a0b541",
   "metadata": {},
   "outputs": [],
   "source": [
    "pac=PassiveAggressiveClassifier(max_iter=50)\n",
    "pac.fit(tfidf_train,y_train)\n",
    "y_pred=pac.predict(tfidf_test)\n",
    "score=accuracy_score(y_test,y_pred)\n",
    "print(f'Accuracy: {round(score*100,2)}%')"
   ]
  },
  {
   "cell_type": "markdown",
   "id": "55d62fa2",
   "metadata": {},
   "source": [
    "DataFlair - Predict on the test set and calculate accuracy of dataSet"
   ]
  },
  {
   "cell_type": "markdown",
   "id": "219ff8db",
   "metadata": {},
   "source": [
    "# The accuracy of 92.98% with this model"
   ]
  },
  {
   "cell_type": "code",
   "execution_count": null,
   "id": "4ccd873c",
   "metadata": {},
   "outputs": [],
   "source": [
    "confusion_matrix(y_test,y_pred, labels=['FAKE','REAL'])"
   ]
  },
  {
   "cell_type": "markdown",
   "id": "79a68508",
   "metadata": {},
   "source": [
    "we have 594 true positives, 584 true negatives, 45 false positives, and 44\n",
    "false negatives."
   ]
  }
 ],
 "metadata": {
  "kernelspec": {
   "display_name": "Python 3",
   "language": "python",
   "name": "python3"
  },
  "language_info": {
   "codemirror_mode": {
    "name": "ipython",
    "version": 3
   },
   "file_extension": ".py",
   "mimetype": "text/x-python",
   "name": "python",
   "nbconvert_exporter": "python",
   "pygments_lexer": "ipython3",
   "version": "3.8.8"
  }
 },
 "nbformat": 4,
 "nbformat_minor": 5
}
